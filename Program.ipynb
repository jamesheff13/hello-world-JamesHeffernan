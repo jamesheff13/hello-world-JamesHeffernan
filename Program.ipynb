{
 "cells": [
  {
   "cell_type": "code",
   "execution_count": 1,
   "metadata": {},
   "outputs": [
    {
     "name": "stdin",
     "output_type": "stream",
     "text": [
      "Enter the first string this \n",
      "Enter the second string will\n",
      "Enter the third string work\n"
     ]
    },
    {
     "name": "stdout",
     "output_type": "stream",
     "text": [
      "this  will work.\n"
     ]
    }
   ],
   "source": [
    "# Program that concactenates three strings the user enters\n",
    "\n",
    "string1 = input(\"Enter the first string\")\n",
    "\n",
    "string2 = input(\"Enter the second string\")\n",
    "\n",
    "string3 = input(\"Enter the third string\")\n",
    "\n",
    "print(string1 + \" \" + string2 + \" \" + string3 + \".\")"
   ]
  },
  {
   "cell_type": "code",
   "execution_count": null,
   "metadata": {},
   "outputs": [],
   "source": []
  }
 ],
 "metadata": {
  "kernelspec": {
   "display_name": "Python 3",
   "language": "python",
   "name": "python3"
  },
  "language_info": {
   "codemirror_mode": {
    "name": "ipython",
    "version": 3
   },
   "file_extension": ".py",
   "mimetype": "text/x-python",
   "name": "python",
   "nbconvert_exporter": "python",
   "pygments_lexer": "ipython3",
   "version": "3.8.3"
  }
 },
 "nbformat": 4,
 "nbformat_minor": 4
}
